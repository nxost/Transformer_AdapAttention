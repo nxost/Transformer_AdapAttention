{
 "cells": [
  {
   "cell_type": "markdown",
   "metadata": {},
   "source": [
    "## Librerías:"
   ]
  },
  {
   "cell_type": "code",
   "execution_count": 1,
   "metadata": {},
   "outputs": [],
   "source": [
    "import os\n",
    "import torch\n",
    "import torch.nn as nn\n",
    "from torch.utils.data import Dataset, DataLoader\n",
    "from torchvision import transforms\n",
    "import pandas as pd\n",
    "from PIL import Image\n",
    "from transformers import CLIPProcessor, CLIPModel\n",
    "\n",
    "# Visualización y métricas\n",
    "import matplotlib.pyplot as plt\n",
    "import seaborn as sns\n",
    "import numpy as np\n",
    "from sklearn.metrics import multilabel_confusion_matrix, classification_report\n",
    "from SupportFunc.Loader import MultiLabelImageDataset\n",
    "from SupportFunc.AdaptiveAttention import AdaptiveAttention, AdaptiveTransformerEncoderLayer\n",
    "from SupportFunc.Visualization import plot_confusion_matrix, plot_train_val_curve"
   ]
  },
  {
   "cell_type": "markdown",
   "metadata": {},
   "source": [
    "## Parámetros y funciones:"
   ]
  },
  {
   "cell_type": "code",
   "execution_count": 2,
   "metadata": {},
   "outputs": [],
   "source": [
    "# En el modelo AdaptiveAttentionClassifierWithCLIP\n",
    "class AdaptiveAttentionClassifierWithCLIP(nn.Module):\n",
    "    def __init__(self, clip_model, num_classes, seq_len=1):\n",
    "        super(AdaptiveAttentionClassifierWithCLIP, self).__init__()\n",
    "        self.clip_model = clip_model\n",
    "        self.seq_len = seq_len\n",
    "        self.image_embed = nn.Linear(512, 512)  # Embedding de CLIP al transformador\n",
    "        self.transformer_encoder = nn.ModuleList([\n",
    "            AdaptiveTransformerEncoderLayer(d_model=512, nhead=8) for _ in range(6)\n",
    "        ])\n",
    "        self.mlp = nn.Sequential(\n",
    "            nn.Linear(512, 256),\n",
    "            nn.ReLU(),\n",
    "            nn.Linear(256, num_classes),\n",
    "        )\n",
    "\n",
    "    def forward(self, image_features):\n",
    "        # Ajustar dimensiones (expandir artificialmente para seq_len)\n",
    "        image_embeddings = image_features.unsqueeze(1).repeat(1, self.seq_len, 1)  # [batch_size, seq_len, 512]\n",
    "\n",
    "        # Pasar por el Transformer\n",
    "        for layer in self.transformer_encoder:\n",
    "            image_embeddings = layer(image_embeddings)\n",
    "\n",
    "        # Clasificación final\n",
    "        output = self.mlp(image_embeddings[:, 0, :])  # Usar solo el primer token para la clasificación\n",
    "        return output\n"
   ]
  },
  {
   "cell_type": "code",
   "execution_count": 3,
   "metadata": {},
   "outputs": [
    {
     "name": "stdout",
     "output_type": "stream",
     "text": [
      "302\n"
     ]
    }
   ],
   "source": [
    "# Obtener el directorio actual\n",
    "current_directory = os.getcwd()\n",
    "data_directory = os.path.join(current_directory[:-3], 'data')\n",
    "images_directory = os.path.join(data_directory, 'images')\n",
    "\n",
    "num_epochs = 1\n",
    "batch_size = 32\n",
    "lr = 0.001 \n",
    "image_feature_dim = 2048\n",
    "\n",
    "# Crear subset basado en los nombres de archivos en la carpeta de imágenes\n",
    "subset = [os.path.splitext(filename)[0] for filename in os.listdir(images_directory)]\n",
    "print(len(subset))\n",
    "\n",
    "# Transformaciones para las imágenes\n",
    "transform_clip = transforms.Compose([ transforms.Resize((224, 224)),\n",
    "                                     transforms.ToTensor(),\n",
    "                                     ])"
   ]
  },
  {
   "cell_type": "markdown",
   "metadata": {},
   "source": [
    "## Carga de datos:"
   ]
  },
  {
   "cell_type": "markdown",
   "metadata": {},
   "source": [
    "### Selección de subset para pruebas:"
   ]
  },
  {
   "cell_type": "code",
   "execution_count": 4,
   "metadata": {},
   "outputs": [],
   "source": [
    "# Leer y filtrar datos\n",
    "train_1 = pd.read_csv(f'{data_directory}/train_data.csv')\n",
    "test_1 = pd.read_csv(f'{data_directory}/test_data.csv')\n",
    "\n",
    "train_1 = train_1[train_1['ID'].isin(subset)]\n",
    "test_1 = test_1[test_1['ID'].isin(subset)]\n",
    "\n",
    "# Guardar los archivos filtrados\n",
    "train_1.to_csv(f'{data_directory}/train_data_2.csv', encoding='utf-8', index=False)\n",
    "test_1.to_csv(f'{data_directory}/test_data_2.csv', encoding='utf-8', index=False)\n",
    "\n",
    "# Crear datasets y DataLoaders\n",
    "train_dataset = MultiLabelImageDataset(csv_file=f\"{data_directory}/train_data_2.csv\", img_dir=f\"{images_directory}/\", transform=transform_clip)\n",
    "test_dataset = MultiLabelImageDataset(csv_file=f\"{data_directory}/test_data_2.csv\", img_dir=f\"{images_directory}/\", transform=transform_clip)\n",
    "train_loader = DataLoader(train_dataset, batch_size=batch_size, shuffle=True)\n",
    "test_loader = DataLoader(test_dataset, batch_size=batch_size, shuffle=False)\n"
   ]
  },
  {
   "cell_type": "markdown",
   "metadata": {},
   "source": [
    "## Instanciar modelo:"
   ]
  },
  {
   "cell_type": "code",
   "execution_count": 5,
   "metadata": {},
   "outputs": [],
   "source": [
    "# Configuración del dispositivo\n",
    "device = torch.device(\"cuda\" if torch.cuda.is_available() else \"cpu\")\n",
    "\n",
    "# Modelo CLIP\n",
    "clip_model_name = \"openai/clip-vit-base-patch32\"  # Cambia el modelo si usas otro.\n",
    "clip_model = CLIPModel.from_pretrained(clip_model_name)\n",
    "clip_processor = CLIPProcessor.from_pretrained(clip_model_name)\n",
    "\n",
    "# Asegúrate de mover el modelo CLIP al dispositivo adecuado (GPU o CPU)\n",
    "clip_model = clip_model.to(device)\n",
    "\n",
    "# Descongelar las capas para fine-tuning\n",
    "for param in clip_model.parameters():\n",
    "    param.requires_grad = True\n",
    "\n",
    "# Crear modelo con atención adaptativa\n",
    "model = AdaptiveAttentionClassifierWithCLIP(clip_model=clip_model, num_classes=train_dataset[0][1].size(0))\n",
    "model = model.to(device)\n",
    "\n",
    "# Configuración del optimizador y función de pérdida\n",
    "criterion = nn.BCEWithLogitsLoss()\n",
    "optimizer = torch.optim.Adam(filter(lambda p: p.requires_grad, model.parameters()), lr=lr)"
   ]
  },
  {
   "cell_type": "markdown",
   "metadata": {},
   "source": [
    "## Entrenamiento:"
   ]
  },
  {
   "cell_type": "code",
   "execution_count": 8,
   "metadata": {},
   "outputs": [
    {
     "name": "stdout",
     "output_type": "stream",
     "text": [
      "Epoch 1/1, Train Loss: 0.2160, Val Loss: 0.2047\n"
     ]
    }
   ],
   "source": [
    "# Entrenamiento\n",
    "train_losses = list()\n",
    "val_losses = list()\n",
    "for epoch in range(num_epochs):\n",
    "    model.train()\n",
    "    train_loss = 0.0\n",
    "\n",
    "    for images, labels in train_loader:\n",
    "        # Mover imágenes y etiquetas al dispositivo\n",
    "        images, labels = images.to(device), labels.to(device)\n",
    "        \n",
    "        # Convertir imágenes a formato adecuado para CLIP\n",
    "        images = [transforms.ToPILImage()(img) for img in images]  # Convertir tensores a imágenes PIL\n",
    "        image_inputs = clip_processor(images=images, return_tensors=\"pt\", padding=True)\n",
    "        image_inputs = {key: val.to(device) for key, val in image_inputs.items()}\n",
    "\n",
    "        # Obtener embeddings de imagen desde CLIP\n",
    "        with torch.no_grad():\n",
    "            image_features = clip_model.get_image_features(**image_inputs)\n",
    "\n",
    "        # Pasar las características al modelo con atención adaptativa\n",
    "        outputs = model(image_features)\n",
    "        loss = criterion(outputs, labels)\n",
    "        \n",
    "        # Backpropagation\n",
    "        optimizer.zero_grad()\n",
    "        loss.backward()\n",
    "        optimizer.step()\n",
    "        train_loss += loss.item()\n",
    "\n",
    "    # Validación\n",
    "    model.eval()\n",
    "    val_loss = 0.0\n",
    "    with torch.no_grad():\n",
    "        for images, labels in test_loader:\n",
    "            # Mover imágenes y etiquetas al dispositivo\n",
    "            images, labels = images.to(device), labels.to(device)\n",
    "            images = [transforms.ToPILImage()(img) for img in images]\n",
    "            image_inputs = clip_processor(images=images, return_tensors=\"pt\", padding=True)\n",
    "            image_inputs = {key: val.to(device) for key, val in image_inputs.items()}\n",
    "            image_features = clip_model.get_image_features(**image_inputs)\n",
    "\n",
    "            outputs = model(image_features)\n",
    "            loss = criterion(outputs, labels)\n",
    "            val_loss += loss.item()\n",
    "\n",
    "    # Imprimir métricas\n",
    "    train_loss /= len(train_loader)\n",
    "    val_loss /= len(test_loader)\n",
    "    train_losses.append(train_loss)\n",
    "    val_losses.append(val_loss)\n",
    "    print(f\"Epoch {epoch+1}/{num_epochs}, Train Loss: {train_loss:.4f}, Val Loss: {val_loss:.4f}\")\n"
   ]
  },
  {
   "cell_type": "code",
   "execution_count": 9,
   "metadata": {},
   "outputs": [
    {
     "data": {
      "image/png": "[encoded data removed]",
      "text/plain": [
       "<Figure size 800x600 with 1 Axes>"
      ]
     },
     "metadata": {},
     "output_type": "display_data"
    }
   ],
   "source": [
    "plot_train_val_curve(num_epochs, train_losses, val_losses)"
   ]
  },
  {
   "cell_type": "markdown",
   "metadata": {},
   "source": [
    "## Inferencia y métricas:"
   ]
  }
 ],
 "metadata": {
  "kernelspec": {
   "display_name": ".venv",
   "language": "python",
   "name": "python3"
  },
  "language_info": {
   "codemirror_mode": {
    "name": "ipython",
    "version": 3
   },
   "file_extension": ".py",
   "mimetype": "text/x-python",
   "name": "python",
   "nbconvert_exporter": "python",
   "pygments_lexer": "ipython3",
   "version": "3.11.0"
  }
 },
 "nbformat": 4,
 "nbformat_minor": 2
}

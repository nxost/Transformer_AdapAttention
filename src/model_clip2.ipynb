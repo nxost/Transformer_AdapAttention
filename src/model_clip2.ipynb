{
 "cells": [
  {
   "cell_type": "markdown",
   "metadata": {},
   "source": [
    "## Librerías:"
   ]
  },
  {
   "cell_type": "code",
   "execution_count": 31,
   "metadata": {},
   "outputs": [],
   "source": [
    "import os\n",
    "import torch\n",
    "import torch.nn as nn\n",
    "from torch.utils.data import Dataset, DataLoader\n",
    "from torchvision import transforms\n",
    "import pandas as pd\n",
    "from PIL import Image\n",
    "from transformers import CLIPProcessor, CLIPModel\n",
    "\n",
    "# Visualización y métricas\n",
    "import matplotlib.pyplot as plt\n",
    "import seaborn as sns\n",
    "import numpy as np\n",
    "from sklearn.metrics import multilabel_confusion_matrix, classification_report\n",
    "from SupportFunc.Loader import MultiLabelImageDataset\n",
    "from SupportFunc.AdaptiveAttention import AdaptiveAttention, AdaptiveTransformerEncoderLayer\n",
    "from SupportFunc.Visualization import plot_confusion_matrix, plot_train_val_curve"
   ]
  },
  {
   "cell_type": "markdown",
   "metadata": {},
   "source": [
    "## Parámetros y funciones:"
   ]
  },
  {
   "cell_type": "code",
   "execution_count": 32,
   "metadata": {},
   "outputs": [],
   "source": [
    "# En el modelo AdaptiveAttentionClassifierWithCLIP\n",
    "class AdaptiveAttentionClassifierWithCLIP(nn.Module):\n",
    "    def __init__(self, clip_model, num_classes, seq_len=1):\n",
    "        super(AdaptiveAttentionClassifierWithCLIP, self).__init__()\n",
    "        self.clip_model = clip_model\n",
    "        self.seq_len = seq_len\n",
    "        self.image_embed = nn.Linear(512, 512)  # Embedding de CLIP al transformador\n",
    "        self.transformer_encoder = nn.ModuleList([\n",
    "            AdaptiveTransformerEncoderLayer(d_model=512, nhead=8) for _ in range(6)\n",
    "        ])\n",
    "        self.mlp = nn.Sequential(\n",
    "            nn.Linear(512, 256),\n",
    "            nn.ReLU(),\n",
    "            nn.Linear(256, num_classes),\n",
    "        )\n",
    "\n",
    "    def forward(self, image_features):\n",
    "        # Ajustar dimensiones (expandir artificialmente para seq_len)\n",
    "        image_embeddings = image_features.unsqueeze(1).repeat(1, self.seq_len, 1)  # [batch_size, seq_len, 512]\n",
    "\n",
    "        # Pasar por el Transformer\n",
    "        for layer in self.transformer_encoder:\n",
    "            image_embeddings = layer(image_embeddings)\n",
    "\n",
    "        # Clasificación final\n",
    "        output = self.mlp(image_embeddings[:, 0, :])  # Usar solo el primer token para la clasificación\n",
    "        return output\n"
   ]
  },
  {
   "cell_type": "code",
   "execution_count": 33,
   "metadata": {},
   "outputs": [
    {
     "name": "stdout",
     "output_type": "stream",
     "text": [
      "2451\n"
     ]
    }
   ],
   "source": [
    "# Obtener el directorio actual\n",
    "current_directory = os.getcwd()\n",
    "data_directory = os.path.join(current_directory[:-3], 'data')\n",
    "images_directory = os.path.join(data_directory, 'images')\n",
    "\n",
    "num_epochs = 10\n",
    "batch_size = 32\n",
    "lr = 0.001 \n",
    "image_feature_dim = 2048\n",
    "\n",
    "# Crear subset basado en los nombres de archivos en la carpeta de imágenes\n",
    "subset = [os.path.splitext(filename)[0] for filename in os.listdir(images_directory)]\n",
    "print(len(subset))\n",
    "\n",
    "# Transformaciones para las imágenes\n",
    "transform_clip = transforms.Compose([ transforms.Resize((224, 224)),\n",
    "                                     transforms.ToTensor(),\n",
    "                                     ])"
   ]
  },
  {
   "cell_type": "markdown",
   "metadata": {},
   "source": [
    "## Carga de datos:"
   ]
  },
  {
   "cell_type": "markdown",
   "metadata": {},
   "source": [
    "### Selección de subset para pruebas:"
   ]
  },
  {
   "cell_type": "code",
   "execution_count": null,
   "metadata": {},
   "outputs": [],
   "source": [
    "# Leer y filtrar datos\n",
    "train_1 = pd.read_csv(f'{data_directory}/train_data.csv')\n",
    "test_1 = pd.read_csv(f'{data_directory}/test_data.csv')\n",
    "\n",
    "train_1 = train_1[train_1['ID'].isin(subset[:500])]\n",
    "test_1 = test_1[test_1['ID'].isin(subset[:500])]\n",
    "\n",
    "# Guardar los archivos filtrados\n",
    "train_1.to_csv(f'{data_directory}/train_data_2.csv', encoding='utf-8', index=False)\n",
    "test_1.to_csv(f'{data_directory}/test_data_2.csv', encoding='utf-8', index=False)\n",
    "\n",
    "# Crear datasets y DataLoaders\n",
    "train_dataset = MultiLabelImageDataset(csv_file=f\"{data_directory}/train_data_2.csv\", img_dir=f\"{images_directory}/\", transform=transform_clip)\n",
    "test_dataset = MultiLabelImageDataset(csv_file=f\"{data_directory}/test_data_2.csv\", img_dir=f\"{images_directory}/\", transform=transform_clip)\n",
    "train_loader = DataLoader(train_dataset, batch_size=batch_size, shuffle=True)\n",
    "test_loader = DataLoader(test_dataset, batch_size=batch_size, shuffle=False)\n"
   ]
  },
  {
   "cell_type": "markdown",
   "metadata": {},
   "source": [
    "## Instanciar modelo:"
   ]
  },
  {
   "cell_type": "code",
   "execution_count": 35,
   "metadata": {},
   "outputs": [],
   "source": [
    "# Configuración del dispositivo\n",
    "device = torch.device(\"cuda\" if torch.cuda.is_available() else \"cpu\")\n",
    "\n",
    "# Modelo CLIP\n",
    "clip_model_name = \"openai/clip-vit-base-patch32\"  # Cambia el modelo si usas otro.\n",
    "clip_model = CLIPModel.from_pretrained(clip_model_name)\n",
    "clip_processor = CLIPProcessor.from_pretrained(clip_model_name)\n",
    "\n",
    "# Asegúrate de mover el modelo CLIP al dispositivo adecuado (GPU o CPU)\n",
    "clip_model = clip_model.to(device)\n",
    "\n",
    "# Descongelar las capas para fine-tuning\n",
    "for param in clip_model.parameters():\n",
    "    param.requires_grad = True\n",
    "\n",
    "# Crear modelo con atención adaptativa\n",
    "model = AdaptiveAttentionClassifierWithCLIP(clip_model=clip_model, num_classes=train_dataset[0][1].size(0))\n",
    "model = model.to(device)\n",
    "\n",
    "# Configuración del optimizador y función de pérdida\n",
    "criterion = nn.BCEWithLogitsLoss()\n",
    "optimizer = torch.optim.Adam(filter(lambda p: p.requires_grad, model.parameters()), lr=lr)"
   ]
  },
  {
   "cell_type": "markdown",
   "metadata": {},
   "source": [
    "## Entrenamiento:"
   ]
  },
  {
   "cell_type": "code",
   "execution_count": 36,
   "metadata": {},
   "outputs": [
    {
     "name": "stdout",
     "output_type": "stream",
     "text": [
      "Epoch 1/10, Train Loss: 0.2347, Val Loss: 0.2114, Train Acc: 0.0006, Val Acc: 0.0000, Train F1: 0.0174, Val F1: 0.0000\n",
      "Epoch 2/10, Train Loss: 0.2129, Val Loss: 0.2150, Train Acc: 0.0000, Val Acc: 0.0000, Train F1: 0.0000, Val F1: 0.0000\n",
      "Epoch 3/10, Train Loss: 0.2146, Val Loss: 0.2101, Train Acc: 0.0000, Val Acc: 0.0000, Train F1: 0.0000, Val F1: 0.0000\n",
      "Epoch 4/10, Train Loss: 0.2134, Val Loss: 0.2124, Train Acc: 0.0000, Val Acc: 0.0000, Train F1: 0.0000, Val F1: 0.0000\n",
      "Epoch 5/10, Train Loss: 0.2131, Val Loss: 0.2109, Train Acc: 0.0000, Val Acc: 0.0000, Train F1: 0.0000, Val F1: 0.0000\n",
      "Epoch 6/10, Train Loss: 0.2139, Val Loss: 0.2103, Train Acc: 0.0000, Val Acc: 0.0000, Train F1: 0.0000, Val F1: 0.0000\n",
      "Epoch 7/10, Train Loss: 0.2124, Val Loss: 0.2100, Train Acc: 0.0000, Val Acc: 0.0000, Train F1: 0.0000, Val F1: 0.0000\n",
      "Epoch 8/10, Train Loss: 0.2123, Val Loss: 0.2100, Train Acc: 0.0000, Val Acc: 0.0000, Train F1: 0.0000, Val F1: 0.0000\n",
      "Epoch 9/10, Train Loss: 0.2121, Val Loss: 0.2116, Train Acc: 0.0000, Val Acc: 0.0000, Train F1: 0.0000, Val F1: 0.0000\n",
      "Epoch 10/10, Train Loss: 0.2120, Val Loss: 0.2105, Train Acc: 0.0000, Val Acc: 0.0000, Train F1: 0.0000, Val F1: 0.0000\n"
     ]
    }
   ],
   "source": [
    "from sklearn.metrics import accuracy_score, f1_score\n",
    "\n",
    "# Entrenamiento\n",
    "train_losses = list()\n",
    "val_losses = list()\n",
    "train_accuracies = list()\n",
    "val_accuracies = list()\n",
    "train_f1_scores = list()\n",
    "val_f1_scores = list()\n",
    "\n",
    "for epoch in range(num_epochs):\n",
    "    model.train()\n",
    "    train_loss = 0.0\n",
    "    all_train_labels = []\n",
    "    all_train_preds = []\n",
    "\n",
    "    for images, labels in train_loader:\n",
    "        # Mover imágenes y etiquetas al dispositivo\n",
    "        images, labels = images.to(device), labels.to(device)\n",
    "\n",
    "        # Convertir imágenes a formato adecuado para CLIP\n",
    "        images = [transforms.ToPILImage()(img) for img in images]  # Convertir tensores a imágenes PIL\n",
    "        image_inputs = clip_processor(images=images, return_tensors=\"pt\", padding=True)\n",
    "        image_inputs = {key: val.to(device) for key, val in image_inputs.items()}\n",
    "\n",
    "        # Obtener embeddings de imagen desde CLIP\n",
    "        with torch.no_grad():\n",
    "            image_features = clip_model.get_image_features(**image_inputs)\n",
    "\n",
    "        # Pasar las características al modelo con atención adaptativa\n",
    "        outputs = model(image_features)\n",
    "\n",
    "        # Calcular la pérdida\n",
    "        loss = criterion(outputs, labels)\n",
    "        optimizer.zero_grad()\n",
    "        loss.backward()\n",
    "        optimizer.step()\n",
    "        train_loss += loss.item()\n",
    "\n",
    "        # Calcular predicciones para métricas\n",
    "        probs = torch.sigmoid(outputs)\n",
    "        preds = (probs > 0.5).int()  # Umbral de 0.5 para predicciones binarias\n",
    "        all_train_labels.append(labels.cpu().numpy())\n",
    "        all_train_preds.append(preds.cpu().numpy())\n",
    "\n",
    "    # Calcular métricas para entrenamiento\n",
    "    all_train_labels = np.vstack(all_train_labels)\n",
    "    all_train_preds = np.vstack(all_train_preds)\n",
    "    train_accuracy = accuracy_score(all_train_labels, all_train_preds)\n",
    "    train_f1 = f1_score(all_train_labels, all_train_preds, average=\"macro\", zero_division=1)\n",
    "\n",
    "    train_losses.append(train_loss / len(train_loader))\n",
    "    train_accuracies.append(train_accuracy)\n",
    "    train_f1_scores.append(train_f1)\n",
    "\n",
    "    # Validación\n",
    "    model.eval()\n",
    "    val_loss = 0.0\n",
    "    all_val_labels = []\n",
    "    all_val_preds = []\n",
    "\n",
    "    with torch.no_grad():\n",
    "        for images, labels in test_loader:\n",
    "            # Mover imágenes y etiquetas al dispositivo\n",
    "            images, labels = images.to(device), labels.to(device)\n",
    "            images = [transforms.ToPILImage()(img) for img in images]\n",
    "            image_inputs = clip_processor(images=images, return_tensors=\"pt\", padding=True)\n",
    "            image_inputs = {key: val.to(device) for key, val in image_inputs.items()}\n",
    "            image_features = clip_model.get_image_features(**image_inputs)\n",
    "\n",
    "            outputs = model(image_features)\n",
    "\n",
    "            # Calcular la pérdida\n",
    "            loss = criterion(outputs, labels)\n",
    "            val_loss += loss.item()\n",
    "\n",
    "            # Calcular predicciones para métricas\n",
    "            probs = torch.sigmoid(outputs)\n",
    "            preds = (probs > 0.5).int()  # Umbral de 0.5 para predicciones binarias\n",
    "            all_val_labels.append(labels.cpu().numpy())\n",
    "            all_val_preds.append(preds.cpu().numpy())\n",
    "\n",
    "    # Calcular métricas para validación\n",
    "    all_val_labels = np.vstack(all_val_labels)\n",
    "    all_val_preds = np.vstack(all_val_preds)\n",
    "    val_accuracy = accuracy_score(all_val_labels, all_val_preds)\n",
    "    val_f1 = f1_score(all_val_labels, all_val_preds, average=\"macro\", zero_division=1)\n",
    "\n",
    "    val_losses.append(val_loss / len(test_loader))\n",
    "    val_accuracies.append(val_accuracy)\n",
    "    val_f1_scores.append(val_f1)\n",
    "\n",
    "    # Imprimir métricas\n",
    "    print(\n",
    "        f\"Epoch {epoch+1}/{num_epochs}, \"\n",
    "        f\"Train Loss: {train_losses[-1]:.4f}, Val Loss: {val_losses[-1]:.4f}, \"\n",
    "        f\"Train Acc: {train_accuracies[-1]:.4f}, Val Acc: {val_accuracies[-1]:.4f}, \"\n",
    "        f\"Train F1: {train_f1_scores[-1]:.4f}, Val F1: {val_f1_scores[-1]:.4f}\"\n",
    "    )\n"
   ]
  },
  {
   "cell_type": "code",
   "execution_count": 37,
   "metadata": {},
   "outputs": [
    {
     "data": {
      "image/png": "[encoded data removed]",
      "text/plain": [
       "<Figure size 800x600 with 1 Axes>"
      ]
     },
     "metadata": {},
     "output_type": "display_data"
    }
   ],
   "source": [
    "plot_train_val_curve(num_epochs, train_losses, val_losses)"
   ]
  },
  {
   "cell_type": "markdown",
   "metadata": {},
   "source": [
    "## Inferencia y métricas:"
   ]
  },
  {
   "cell_type": "code",
   "execution_count": 38,
   "metadata": {},
   "outputs": [
    {
     "name": "stdout",
     "output_type": "stream",
     "text": [
      "Test Accuracy: 0.0000, Test F1 Score: 0.0000\n"
     ]
    },
    {
     "data": {
      "image/png": "[encoded data removed]",
      "text/plain": [
       "<Figure size 600x500 with 2 Axes>"
      ]
     },
     "metadata": {},
     "output_type": "display_data"
    }
   ],
   "source": [
    "from sklearn.metrics import accuracy_score, f1_score, multilabel_confusion_matrix\n",
    "\n",
    "# Colocar el modelo en modo evaluación\n",
    "model.eval()\n",
    "\n",
    "# Listas para almacenar etiquetas reales y predicciones\n",
    "all_labels = []\n",
    "all_preds = []\n",
    "\n",
    "# Realizar inferencia\n",
    "with torch.no_grad():  # No calculamos gradientes\n",
    "    for images, labels in test_loader:\n",
    "        # Mover imágenes y etiquetas al dispositivo\n",
    "        labels = labels.to(device)\n",
    "        images = [transforms.ToPILImage()(img) for img in images]  # Convertir tensores a imágenes PIL\n",
    "        image_inputs = clip_processor(images=images, return_tensors=\"pt\", padding=True)\n",
    "        image_inputs = {key: val.to(device) for key, val in image_inputs.items()}\n",
    "\n",
    "        # Obtener embeddings de imagen desde CLIP\n",
    "        image_features = clip_model.get_image_features(**image_inputs)\n",
    "\n",
    "        # Pasar las características al modelo con atención adaptativa\n",
    "        outputs = model(image_features)\n",
    "\n",
    "        # Aplicar sigmoid para obtener probabilidades\n",
    "        probs = torch.sigmoid(outputs)\n",
    "\n",
    "        # Convertir probabilidades en predicciones binarias (umbral = 0.5)\n",
    "        preds = (probs > 0.5).int()\n",
    "\n",
    "        # Guardar etiquetas reales y predicciones\n",
    "        all_labels.append(labels.cpu().numpy())\n",
    "        all_preds.append(preds.cpu().numpy())\n",
    "\n",
    "# Convertir listas a arreglos\n",
    "all_labels = np.vstack(all_labels)  # Etiquetas reales\n",
    "all_preds = np.vstack(all_preds)    # Predicciones\n",
    "\n",
    "# Calcular métricas\n",
    "test_accuracy = accuracy_score(all_labels, all_preds)\n",
    "test_f1 = f1_score(all_labels, all_preds, average=\"macro\", zero_division=1)\n",
    "\n",
    "# Calcular matriz de confusión para cada etiqueta\n",
    "confusion_matrices = multilabel_confusion_matrix(all_labels, all_preds)\n",
    "\n",
    "# Imprimir resultados\n",
    "print(f\"Test Accuracy: {test_accuracy:.4f}, Test F1 Score: {test_f1:.4f}\")\n",
    "\n",
    "# Ejemplo: visualizar la matriz de confusión para la primera etiqueta\n",
    "class_name = test_dataset.data.columns[1]  # Obtén el nombre de la primera clase\n",
    "plot_confusion_matrix(confusion_matrices[0], class_name)\n"
   ]
  },
  {
   "cell_type": "code",
   "execution_count": 39,
   "metadata": {},
   "outputs": [
    {
     "name": "stdout",
     "output_type": "stream",
     "text": [
      "test_accuracy: 0.0, test_f1: 0.0\n"
     ]
    }
   ],
   "source": [
    "print(f'test_accuracy: {test_accuracy}, test_f1: {test_f1}')"
   ]
  },
  {
   "cell_type": "code",
   "execution_count": 41,
   "metadata": {},
   "outputs": [
    {
     "name": "stdout",
     "output_type": "stream",
     "text": [
      "Reporte de clasificación (por etiqueta):\n",
      "              precision    recall  f1-score   support\n",
      "\n",
      "          DR       0.00      0.00      0.00        99\n",
      "      NORMAL       0.00      0.00      0.00        98\n",
      "          MH       0.00      0.00      0.00        34\n",
      "         ODC       0.00      0.00      0.00        52\n",
      "        TSLN       0.00      0.00      0.00        31\n",
      "        ARMD       0.00      0.00      0.00        32\n",
      "          DN       0.00      0.00      0.00        32\n",
      "         MYA       0.00      0.00      0.00        18\n",
      "        BRVO       0.00      0.00      0.00        16\n",
      "         ODP       0.00      0.00      0.00        12\n",
      "        CRVO       0.00      0.00      0.00        11\n",
      "         CNV       0.00      0.00      0.00        12\n",
      "          RS       0.00      0.00      0.00        11\n",
      "         ODE       0.00      0.00      0.00        11\n",
      "          LS       0.00      0.00      0.00         9\n",
      "         CSR       0.00      0.00      0.00         7\n",
      "         HTR       0.00      0.00      0.00         7\n",
      "         ASR       0.00      0.00      0.00         7\n",
      "         CRS       0.00      0.00      0.00         6\n",
      "       OTHER       0.00      0.00      0.00        52\n",
      "\n",
      "   micro avg       0.00      0.00      0.00       557\n",
      "   macro avg       0.00      0.00      0.00       557\n",
      "weighted avg       0.00      0.00      0.00       557\n",
      " samples avg       0.00      0.00      0.00       557\n",
      "\n"
     ]
    }
   ],
   "source": [
    "# Imprimir métricas de clasificación\n",
    "print(\"Reporte de clasificación (por etiqueta):\")\n",
    "print(classification_report(all_labels, all_preds, target_names=test_dataset.data.columns[1:], zero_division=0))"
   ]
  }
 ],
 "metadata": {
  "kernelspec": {
   "display_name": ".venv",
   "language": "python",
   "name": "python3"
  },
  "language_info": {
   "codemirror_mode": {
    "name": "ipython",
    "version": 3
   },
   "file_extension": ".py",
   "mimetype": "text/x-python",
   "name": "python",
   "nbconvert_exporter": "python",
   "pygments_lexer": "ipython3",
   "version": "3.11.0"
  }
 },
 "nbformat": 4,
 "nbformat_minor": 2
}

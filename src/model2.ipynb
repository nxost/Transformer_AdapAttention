{
 "cells": [
  {
   "cell_type": "markdown",
   "metadata": {},
   "source": [
    "## Librerías:"
   ]
  },
  {
   "cell_type": "code",
   "execution_count": 40,
   "metadata": {},
   "outputs": [],
   "source": [
    "import os\n",
    "import pandas as pd\n",
    "from PIL import Image\n",
    "import torch\n",
    "import torch.nn as nn\n",
    "from torch.utils.data import Dataset, DataLoader\n",
    "import torchvision.models as models\n",
    "from torchvision import transforms\n",
    "from torchvision.models import resnet50, ResNet50_Weights\n",
    "\n",
    "# Visualizar una matriz de confusión para una etiqueta específica\n",
    "import matplotlib.pyplot as plt\n",
    "import seaborn as sns\n",
    "import numpy as np\n",
    "from sklearn.metrics import multilabel_confusion_matrix, classification_report"
   ]
  },
  {
   "cell_type": "markdown",
   "metadata": {},
   "source": [
    "## Parámetros y funciones:"
   ]
  },
  {
   "cell_type": "code",
   "execution_count": 41,
   "metadata": {},
   "outputs": [],
   "source": [
    "def plot_confusion_matrix(conf_matrix, class_name):\n",
    "    plt.figure(figsize=(6, 5))\n",
    "    sns.heatmap(conf_matrix, annot=True, fmt='d', cmap='Blues')\n",
    "    plt.xlabel('Predicted')\n",
    "    plt.ylabel('True')\n",
    "    plt.title(f'Matriz de Confusión para la clase: {class_name}')\n",
    "    plt.show()"
   ]
  },
  {
   "cell_type": "code",
   "execution_count": 42,
   "metadata": {},
   "outputs": [],
   "source": [
    "class MultiLabelImageDataset(Dataset):\n",
    "    def __init__(self, csv_file, img_dir, transform=None):\n",
    "        \"\"\"\n",
    "        Args:\n",
    "            csv_file (str): Ruta del archivo CSV con nombres de archivo y etiquetas.\n",
    "            img_dir (str): Ruta a la carpeta de imágenes.\n",
    "            transform (callable, optional): Transformaciones a aplicar a las imágenes.\n",
    "        \"\"\"\n",
    "        self.data = pd.read_csv(csv_file)\n",
    "        self.img_dir = img_dir\n",
    "        self.transform = transform\n",
    "\n",
    "    def __len__(self):\n",
    "        return len(self.data)\n",
    "\n",
    "    def __getitem__(self, idx):\n",
    "        # Obtener el ID del archivo desde el CSV\n",
    "        img_id = self.data.iloc[idx, 0]  # Primera columna (ID)\n",
    "        extensions = [\"\", \".jpg\", \".png\", \".tif\"]\n",
    "        img_path = None\n",
    "\n",
    "        # Buscar la imagen con diferentes extensiones\n",
    "        for ext in extensions:\n",
    "            temp_path = os.path.join(self.img_dir, str(img_id) + ext)\n",
    "            if os.path.exists(temp_path):\n",
    "                img_path = temp_path\n",
    "                break\n",
    "\n",
    "        if img_path is None:\n",
    "            raise FileNotFoundError(\n",
    "                f\"No se encontró la imagen para el ID '{img_id}' en {self.img_dir} con extensiones {extensions}.\"\n",
    "            )\n",
    "\n",
    "        # Cargar la imagen\n",
    "        image = Image.open(img_path).convert(\"RGB\")  # Convertir a RGB\n",
    "        if self.transform:\n",
    "            image = self.transform(image)\n",
    "\n",
    "        # Leer etiquetas multi-label\n",
    "        labels = torch.tensor(self.data.iloc[idx, 1:].values.astype(float))\n",
    "        return image, labels\n"
   ]
  },
  {
   "cell_type": "code",
   "execution_count": 43,
   "metadata": {},
   "outputs": [],
   "source": [
    "class AdaptiveAttention(nn.Module):\n",
    "    def __init__(self, d_model, nhead, dropout=0.1):\n",
    "        super(AdaptiveAttention, self).__init__()\n",
    "        self.self_attn = nn.MultiheadAttention(embed_dim=d_model, num_heads=nhead, dropout=dropout)\n",
    "        self.dropout = nn.Dropout(dropout)\n",
    "        self.norm = nn.LayerNorm(d_model)\n",
    "\n",
    "    def forward(self, src, mask=None):\n",
    "        attn_output, _ = self.self_attn(src, src, src, key_padding_mask=mask)\n",
    "        src = src + self.dropout(attn_output)\n",
    "        src = self.norm(src)\n",
    "        return src\n",
    "\n",
    "class AdaptiveTransformerEncoderLayer(nn.Module):\n",
    "    def __init__(self, d_model, nhead, dim_feedforward=2048, dropout=0.1):\n",
    "        super(AdaptiveTransformerEncoderLayer, self).__init__()\n",
    "        self.adaptive_attention = AdaptiveAttention(d_model, nhead, dropout)\n",
    "        self.feed_forward = nn.Sequential(\n",
    "            nn.Linear(d_model, dim_feedforward),\n",
    "            nn.ReLU(),\n",
    "            nn.Dropout(dropout),\n",
    "            nn.Linear(dim_feedforward, d_model),\n",
    "        )\n",
    "        self.norm1 = nn.LayerNorm(d_model)\n",
    "        self.norm2 = nn.LayerNorm(d_model)\n",
    "        self.dropout = nn.Dropout(dropout)\n",
    "\n",
    "    def forward(self, src, src_mask=None):\n",
    "        src2 = self.adaptive_attention(src, mask=src_mask)\n",
    "        src = src + self.dropout(src2)\n",
    "        src = self.norm1(src)\n",
    "\n",
    "        src2 = self.feed_forward(src)\n",
    "        src = src + self.dropout(src2)\n",
    "        src = self.norm2(src)\n",
    "        return src\n",
    "\n",
    "class AdaptiveAttentionClassifier(nn.Module):\n",
    "    def __init__(self, image_feature_dim, num_classes):\n",
    "        super(AdaptiveAttentionClassifier, self).__init__()\n",
    "        self.image_embed = nn.Linear(image_feature_dim, 512)\n",
    "        self.transformer_encoder = nn.ModuleList([\n",
    "            AdaptiveTransformerEncoderLayer(d_model=512, nhead=8) for _ in range(6)\n",
    "        ])\n",
    "        self.mlp = nn.Sequential(\n",
    "            nn.Linear(512, 256),\n",
    "            nn.ReLU(),\n",
    "            nn.Linear(256, num_classes),\n",
    "        )\n",
    "\n",
    "    def forward(self, image_features):\n",
    "        # Proyección de características\n",
    "        image_embeddings = self.image_embed(image_features)\n",
    "\n",
    "        # Pasar por las capas del Transformer\n",
    "        for layer in self.transformer_encoder:\n",
    "            image_embeddings = layer(image_embeddings.unsqueeze(1)).squeeze(1)\n",
    "\n",
    "        # Clasificador final\n",
    "        output = self.mlp(image_embeddings)\n",
    "        return output\n"
   ]
  },
  {
   "cell_type": "code",
   "execution_count": 44,
   "metadata": {},
   "outputs": [
    {
     "name": "stdout",
     "output_type": "stream",
     "text": [
      "90\n"
     ]
    }
   ],
   "source": [
    "# Obtener el directorio actual\n",
    "current_directory = os.getcwd()\n",
    "data_directory = os.path.join(current_directory[:-3], 'data')\n",
    "images_directory = os.path.join(data_directory, 'images')\n",
    "\n",
    "num_epochs = 20\n",
    "subset = [os.path.splitext(filename)[0] for filename in os.listdir(images_directory)]\n",
    "print(len(subset))\n",
    "#subset = ['(0001)aria_d_26', '(0001)aria_d_27', '(0003)aria_d_29','(0004)aria_d_28', '(0007)aria_d_28', '(0018)aria_d_26', '(0024)aria_d_30', '(0026)aria_d_27', '(0031)aria_c_37',\n",
    "#          '1','2','3','4','5','6','7','8','9','10','11','12','13','14','15','16', '17', '18', '19', '20', '21', '22', '23', '24', '25', '26', '27', '28', '29', '30', '31', '32', '33', '34', '35', '36']"
   ]
  },
  {
   "cell_type": "markdown",
   "metadata": {},
   "source": [
    "## Carga de datos:"
   ]
  },
  {
   "cell_type": "markdown",
   "metadata": {},
   "source": [
    "### Selección de subset para pruebas:"
   ]
  },
  {
   "cell_type": "code",
   "execution_count": 46,
   "metadata": {},
   "outputs": [],
   "source": [
    "train_1 = pd.read_csv(f'{data_directory}/train_data_1.csv')\n",
    "test_1 = pd.read_csv(f'{data_directory}/test_data_1.csv')\n",
    "\n",
    "train_1 = train_1[train_1['ID'].isin(subset)]\n",
    "test_1 = test_1[test_1['ID'].isin(subset)]\n",
    "\n",
    "train_1.to_csv(f'{data_directory}/train_data_2.csv', encoding = 'utf-8', index=False)\n",
    "train_1.to_csv(f'{data_directory}/test_data_2.csv', encoding = 'utf-8', index=False)"
   ]
  },
  {
   "cell_type": "code",
   "execution_count": 47,
   "metadata": {},
   "outputs": [],
   "source": [
    "# Transformaciones para las imágenes\n",
    "transform = transforms.Compose([\n",
    "    transforms.Resize((224, 224)),\n",
    "    transforms.ToTensor(),\n",
    "    transforms.Normalize(mean=[0.485, 0.456, 0.406], std=[0.229, 0.224, 0.225]),\n",
    "])\n",
    "\n",
    "# Dataset y DataLoader\n",
    "train_dataset = MultiLabelImageDataset(csv_file=f\"{data_directory}/train_data_2.csv\", img_dir=f\"{images_directory}/\", transform=transform)\n",
    "test_dataset = MultiLabelImageDataset(csv_file=f\"{data_directory}/test_data_2.csv\", img_dir=f\"{images_directory}/\", transform=transform)\n",
    "train_loader = DataLoader(train_dataset, batch_size=16, shuffle=True)\n",
    "test_loader = DataLoader(test_dataset, batch_size=16, shuffle=False)\n"
   ]
  },
  {
   "cell_type": "markdown",
   "metadata": {},
   "source": [
    "## Instanciar modelo:"
   ]
  },
  {
   "cell_type": "code",
   "execution_count": 48,
   "metadata": {},
   "outputs": [],
   "source": [
    "# Modelo\n",
    "device = torch.device(\"cuda\" if torch.cuda.is_available() else \"cpu\")\n",
    "resnet = models.resnet50(weights=ResNet50_Weights.DEFAULT)\n",
    "import torchvision.models as models\n",
    "resnet.fc = nn.Identity()  # Remover la capa final\n",
    "resnet = resnet.to(device)\n",
    "\n",
    "model = AdaptiveAttentionClassifier(image_feature_dim=2048, num_classes=train_dataset[0][1].size(0))\n",
    "model = model.to(device)\n",
    "\n",
    "# Optimizador y función de pérdida\n",
    "criterion = nn.BCEWithLogitsLoss()\n",
    "optimizer = torch.optim.Adam(model.parameters(), lr=0.001)"
   ]
  },
  {
   "cell_type": "markdown",
   "metadata": {},
   "source": [
    "## Entrenamiento:"
   ]
  },
  {
   "cell_type": "code",
   "execution_count": null,
   "metadata": {},
   "outputs": [
    {
     "name": "stdout",
     "output_type": "stream",
     "text": [
      "Epoch 1/20, Train Loss: 0.5624, Val Loss: 0.2783\n",
      "Epoch 2/20, Train Loss: 0.2593, Val Loss: 0.1969\n",
      "Epoch 3/20, Train Loss: 0.1954, Val Loss: 0.1840\n",
      "Epoch 4/20, Train Loss: 0.1851, Val Loss: 0.1849\n",
      "Epoch 5/20, Train Loss: 0.1811, Val Loss: 0.1805\n",
      "Epoch 6/20, Train Loss: 0.1783, Val Loss: 0.1740\n",
      "Epoch 7/20, Train Loss: 0.1731, Val Loss: 0.1710\n",
      "Epoch 8/20, Train Loss: 0.1726, Val Loss: 0.1707\n",
      "Epoch 9/20, Train Loss: 0.1722, Val Loss: 0.1707\n",
      "Epoch 10/20, Train Loss: 0.1701, Val Loss: 0.1700\n",
      "Epoch 11/20, Train Loss: 0.1713, Val Loss: 0.1703\n",
      "Epoch 12/20, Train Loss: 0.1741, Val Loss: 0.1711\n",
      "Epoch 13/20, Train Loss: 0.1717, Val Loss: 0.1703\n",
      "Epoch 14/20, Train Loss: 0.1706, Val Loss: 0.1709\n",
      "Epoch 15/20, Train Loss: 0.1706, Val Loss: 0.1692\n",
      "Epoch 16/20, Train Loss: 0.1712, Val Loss: 0.1695\n",
      "Epoch 17/20, Train Loss: 0.1721, Val Loss: 0.1714\n",
      "Epoch 18/20, Train Loss: 0.1723, Val Loss: 0.1699\n",
      "Epoch 19/20, Train Loss: 0.1678, Val Loss: 0.1693\n",
      "Epoch 20/20, Train Loss: 0.1704, Val Loss: 0.1703\n"
     ]
    }
   ],
   "source": [
    "# Entrenamiento\n",
    "\n",
    "for epoch in range(num_epochs):\n",
    "    model.train()\n",
    "    train_loss = 0.0\n",
    "    for images, labels in train_loader:\n",
    "        images, labels = images.to(device), labels.to(device)\n",
    "        image_features = resnet(images).flatten(start_dim=1)\n",
    "        outputs = model(image_features)\n",
    "        loss = criterion(outputs, labels)\n",
    "\n",
    "        optimizer.zero_grad()\n",
    "        loss.backward()\n",
    "        optimizer.step()\n",
    "        train_loss += loss.item()\n",
    "\n",
    "    # Validación\n",
    "    model.eval()\n",
    "    val_loss = 0.0\n",
    "    with torch.no_grad():\n",
    "        for images, labels in test_loader:\n",
    "            images, labels = images.to(device), labels.to(device)\n",
    "            image_features = resnet(images).flatten(start_dim=1)\n",
    "            outputs = model(image_features)\n",
    "            loss = criterion(outputs, labels)\n",
    "            val_loss += loss.item()\n",
    "\n",
    "    # Imprimir métricas\n",
    "    train_loss /= len(train_loader)\n",
    "    val_loss /= len(test_loader)\n",
    "    print(f\"Epoch {epoch+1}/{num_epochs}, Train Loss: {train_loss:.4f}, Val Loss: {val_loss:.4f}\")\n"
   ]
  },
  {
   "cell_type": "markdown",
   "metadata": {},
   "source": [
    "## Inferencia y métricas:"
   ]
  },
  {
   "cell_type": "code",
   "execution_count": null,
   "metadata": {},
   "outputs": [
    {
     "name": "stdout",
     "output_type": "stream",
     "text": [
      "Reporte de clasificación (por etiqueta):\n",
      "              precision    recall  f1-score   support\n",
      "\n",
      "          DR       0.00      0.00      0.00        13\n",
      "      NORMAL       0.00      0.00      0.00         5\n",
      "          MH       0.00      0.00      0.00         3\n",
      "         ODC       0.00      0.00      0.00         5\n",
      "        TSLN       0.00      0.00      0.00         1\n",
      "        ARMD       0.00      0.00      0.00         2\n",
      "          DN       0.00      0.00      0.00         2\n",
      "         MYA       0.00      0.00      0.00         2\n",
      "        BRVO       0.00      0.00      0.00         0\n",
      "         ODP       0.00      0.00      0.00         0\n",
      "        CRVO       0.00      0.00      0.00         0\n",
      "         CNV       0.00      0.00      0.00         0\n",
      "          RS       0.00      0.00      0.00         0\n",
      "         ODE       0.00      0.00      0.00         0\n",
      "          LS       0.00      0.00      0.00         1\n",
      "         CSR       0.00      0.00      0.00         0\n",
      "         HTR       0.00      0.00      0.00         0\n",
      "         ASR       0.00      0.00      0.00         0\n",
      "         CRS       0.00      0.00      0.00         2\n",
      "       OTHER       0.00      0.00      0.00         2\n",
      "\n",
      "   micro avg       0.00      0.00      0.00        38\n",
      "   macro avg       0.00      0.00      0.00        38\n",
      "weighted avg       0.00      0.00      0.00        38\n",
      " samples avg       0.00      0.00      0.00        38\n",
      "\n"
     ]
    },
    {
     "data": {
      "image/png": "[encoded data removed]",
      "text/plain": [
       "<Figure size 600x500 with 2 Axes>"
      ]
     },
     "metadata": {},
     "output_type": "display_data"
    }
   ],
   "source": [
    "# Coloca el modelo en modo evaluación\n",
    "model.eval()\n",
    "\n",
    "# Listas para almacenar etiquetas reales y predicciones\n",
    "all_labels = list()\n",
    "all_preds = list()\n",
    "\n",
    "# Realizar inferencia\n",
    "with torch.no_grad():  # No calculamos gradientes\n",
    "    for images, labels in test_loader:\n",
    "        images = images.to(device)\n",
    "        labels = labels.to(device)\n",
    "\n",
    "        # Extraer características con ResNet y pasar por el modelo\n",
    "        image_features = resnet(images).flatten(start_dim=1)\n",
    "        outputs = model(image_features)\n",
    "\n",
    "        # Aplicar sigmoid para obtener probabilidades\n",
    "        probs = torch.sigmoid(outputs)\n",
    "\n",
    "        # Convertir probabilidades en predicciones binarias (umbral = 0.5)\n",
    "        preds = (probs > 0.5).int()\n",
    "\n",
    "        # Guardar etiquetas reales y predicciones\n",
    "        all_labels.append(labels.cpu().numpy())\n",
    "        all_preds.append(preds.cpu().numpy())\n",
    "\n",
    "# Convertir listas a arreglos\n",
    "all_labels = np.vstack(all_labels)  # Etiquetas reales\n",
    "all_preds = np.vstack(all_preds)    # Predicciones\n",
    "\n",
    "# Calcular matriz de confusión para cada etiqueta\n",
    "confusion_matrices = multilabel_confusion_matrix(all_labels, all_preds)\n",
    "\n",
    "# Imprimir métricas de clasificación\n",
    "print(\"Reporte de clasificación (por etiqueta):\")\n",
    "print(classification_report(all_labels, all_preds, target_names=test_dataset.data.columns[1:], zero_division=0))\n",
    "\n",
    "# Ejemplo: Visualizar la matriz de confusión para la primera etiqueta\n",
    "class_name = test_dataset.data.columns[1]\n",
    "plot_confusion_matrix(confusion_matrices[0], class_name)\n"
   ]
  }
 ],
 "metadata": {
  "kernelspec": {
   "display_name": ".venv",
   "language": "python",
   "name": "python3"
  },
  "language_info": {
   "codemirror_mode": {
    "name": "ipython",
    "version": 3
   },
   "file_extension": ".py",
   "mimetype": "text/x-python",
   "name": "python",
   "nbconvert_exporter": "python",
   "pygments_lexer": "ipython3",
   "version": "3.11.0"
  }
 },
 "nbformat": 4,
 "nbformat_minor": 2
}

{
 "cells": [
  {
   "cell_type": "markdown",
   "metadata": {},
   "source": [
    "## Librerías:"
   ]
  },
  {
   "cell_type": "code",
   "execution_count": 1,
   "metadata": {},
   "outputs": [],
   "source": [
    "import os\n",
    "import pandas as pd\n",
    "from PIL import Image\n",
    "import torch\n",
    "import torch.nn as nn\n",
    "from torch.utils.data import Dataset, DataLoader\n",
    "import torchvision.models as models\n",
    "from torchvision import transforms\n",
    "from torchvision.models import resnet50, resnet101, resnet152, ResNet50_Weights,ResNet101_Weights, ResNet152_Weights\n",
    "\n",
    "# Visualizar una matriz de confusión para una etiqueta específica\n",
    "import matplotlib.pyplot as plt\n",
    "import seaborn as sns\n",
    "import numpy as np\n",
    "from sklearn.metrics import multilabel_confusion_matrix, classification_report\n",
    "\n",
    "from SupportFunc.Loader import MultiLabelImageDataset\n",
    "from SupportFunc.AdaptiveAttention import AdaptiveAttention, AdaptiveTransformerEncoderLayer"
   ]
  },
  {
   "cell_type": "markdown",
   "metadata": {},
   "source": [
    "## Parámetros y funciones:"
   ]
  },
  {
   "cell_type": "code",
   "execution_count": 2,
   "metadata": {},
   "outputs": [],
   "source": [
    "def plot_confusion_matrix(conf_matrix, class_name):\n",
    "    plt.figure(figsize=(6, 5))\n",
    "    sns.heatmap(conf_matrix, annot=True, fmt='d', cmap='Blues')\n",
    "    plt.xlabel('Predicted')\n",
    "    plt.ylabel('True')\n",
    "    plt.title(f'Matriz de Confusión para la clase: {class_name}')\n",
    "    plt.show()"
   ]
  },
  {
   "cell_type": "code",
   "execution_count": 3,
   "metadata": {},
   "outputs": [],
   "source": [
    "class AdaptiveAttentionClassifier(nn.Module):\n",
    "    def __init__(self, image_feature_dim, num_classes):\n",
    "        super(AdaptiveAttentionClassifier, self).__init__()\n",
    "        self.image_embed = nn.Linear(image_feature_dim, 512)\n",
    "        self.transformer_encoder = nn.ModuleList([\n",
    "            AdaptiveTransformerEncoderLayer(d_model=512, nhead=8) for _ in range(6)\n",
    "        ])\n",
    "        self.mlp = nn.Sequential(\n",
    "            nn.Linear(512, 256),\n",
    "            nn.ReLU(),\n",
    "            nn.Linear(256, num_classes),\n",
    "        )\n",
    "\n",
    "    def forward(self, image_features):\n",
    "        # Proyección de características\n",
    "        image_embeddings = self.image_embed(image_features)\n",
    "\n",
    "        # Pasar por las capas del Transformer\n",
    "        for layer in self.transformer_encoder:\n",
    "            image_embeddings = layer(image_embeddings.unsqueeze(1)).squeeze(1)\n",
    "\n",
    "        # Clasificador final\n",
    "        output = self.mlp(image_embeddings)\n",
    "        return output\n"
   ]
  },
  {
   "cell_type": "code",
   "execution_count": 4,
   "metadata": {},
   "outputs": [
    {
     "name": "stdout",
     "output_type": "stream",
     "text": [
      "190\n"
     ]
    }
   ],
   "source": [
    "# Obtener el directorio actual\n",
    "current_directory = os.getcwd()\n",
    "data_directory = os.path.join(current_directory[:-3], 'data')\n",
    "images_directory = os.path.join(data_directory, 'images')\n",
    "\n",
    "num_epochs = 10\n",
    "subset = [os.path.splitext(filename)[0] for filename in os.listdir(images_directory)]\n",
    "print(len(subset))"
   ]
  },
  {
   "cell_type": "markdown",
   "metadata": {},
   "source": [
    "## Carga de datos:"
   ]
  },
  {
   "cell_type": "markdown",
   "metadata": {},
   "source": [
    "### Selección de subset para pruebas:"
   ]
  },
  {
   "cell_type": "code",
   "execution_count": 5,
   "metadata": {},
   "outputs": [],
   "source": [
    "train_1 = pd.read_csv(f'{data_directory}/train_data_1.csv')\n",
    "test_1 = pd.read_csv(f'{data_directory}/test_data_1.csv')\n",
    "\n",
    "train_1 = train_1[train_1['ID'].isin(subset)]\n",
    "test_1 = test_1[test_1['ID'].isin(subset)]\n",
    "\n",
    "train_1.to_csv(f'{data_directory}/train_data_2.csv', encoding = 'utf-8', index=False)\n",
    "train_1.to_csv(f'{data_directory}/test_data_2.csv', encoding = 'utf-8', index=False)"
   ]
  },
  {
   "cell_type": "code",
   "execution_count": 6,
   "metadata": {},
   "outputs": [],
   "source": [
    "# Transformaciones para las imágenes\n",
    "transform = transforms.Compose([\n",
    "    transforms.Resize((224, 224)),\n",
    "    transforms.ToTensor(),\n",
    "    transforms.Normalize(mean=[0.485, 0.456, 0.406], std=[0.229, 0.224, 0.225]),\n",
    "])\n",
    "\n",
    "# Dataset y DataLoader\n",
    "train_dataset = MultiLabelImageDataset(csv_file=f\"{data_directory}/train_data_2.csv\", img_dir=f\"{images_directory}/\", transform=transform)\n",
    "test_dataset = MultiLabelImageDataset(csv_file=f\"{data_directory}/test_data_2.csv\", img_dir=f\"{images_directory}/\", transform=transform)\n",
    "train_loader = DataLoader(train_dataset, batch_size=16, shuffle=True)\n",
    "test_loader = DataLoader(test_dataset, batch_size=16, shuffle=False)\n"
   ]
  },
  {
   "cell_type": "markdown",
   "metadata": {},
   "source": [
    "## Instanciar modelo:"
   ]
  },
  {
   "cell_type": "code",
   "execution_count": 7,
   "metadata": {},
   "outputs": [],
   "source": [
    "# Modelo\n",
    "device = torch.device(\"cuda\" if torch.cuda.is_available() else \"cpu\")\n",
    "resnet = models.resnet50(weights=ResNet50_Weights.DEFAULT)\n",
    "#resnet = models.resnet101(weights=ResNet101_Weights.DEFAULT)  # Para ResNet101\n",
    "#resnet = models.resnet152(weights=ResNet152_Weights.DEFAULT)  # Para ResNet152\n",
    "\n",
    "# Congelar todas las capas inicialmente\n",
    "for param in resnet.parameters():\n",
    "    param.requires_grad = False\n",
    "\n",
    "# Descongelar las capas que quieres ajustar (por ejemplo, 'layer4' o 'fc')\n",
    "for param in resnet.layer4.parameters():  # Afinar el bloque final\n",
    "    param.requires_grad = True\n",
    "    \n",
    "# Reemplazar la capa final con una capa adaptada a tu número de clases\n",
    "num_classes = train_dataset[0][1].size(0)  # Obtener el número de clases desde el dataset\n",
    "resnet.fc = nn.Identity()\n",
    "for param in resnet.fc.parameters():\n",
    "    param.requires_grad = True\n",
    "\n",
    "resnet = resnet.to(device)\n",
    "\n",
    "model = AdaptiveAttentionClassifier(image_feature_dim=2048, num_classes=num_classes)\n",
    "model = model.to(device)\n",
    "\n",
    "# Optimizador y función de pérdida\n",
    "criterion = nn.BCEWithLogitsLoss()\n",
    "optimizer = torch.optim.Adam(filter(lambda p: p.requires_grad, resnet.parameters()), lr=0.0001)"
   ]
  },
  {
   "cell_type": "code",
   "execution_count": 8,
   "metadata": {},
   "outputs": [
    {
     "name": "stdout",
     "output_type": "stream",
     "text": [
      "torch.Size([16, 2048])\n"
     ]
    }
   ],
   "source": [
    "#Comprobar que las dimensiones de salida de resnet sean consistentes con la siguiente capa\n",
    "images, labels = next(iter(train_loader))\n",
    "images, labels = images.to(device), labels.to(device)\n",
    "image_features = resnet(images)\n",
    "print(image_features.shape)"
   ]
  },
  {
   "cell_type": "markdown",
   "metadata": {},
   "source": [
    "## Entrenamiento:"
   ]
  },
  {
   "cell_type": "code",
   "execution_count": 9,
   "metadata": {},
   "outputs": [
    {
     "name": "stdout",
     "output_type": "stream",
     "text": [
      "Epoch 1/10, Train Loss: 0.6650, Val Loss: 0.5985\n",
      "Epoch 2/10, Train Loss: 0.5891, Val Loss: 0.5316\n",
      "Epoch 3/10, Train Loss: 0.5384, Val Loss: 0.4872\n",
      "Epoch 4/10, Train Loss: 0.5018, Val Loss: 0.4555\n",
      "Epoch 5/10, Train Loss: 0.4793, Val Loss: 0.4365\n",
      "Epoch 6/10, Train Loss: 0.4660, Val Loss: 0.4238\n",
      "Epoch 7/10, Train Loss: 0.4546, Val Loss: 0.4142\n",
      "Epoch 8/10, Train Loss: 0.4473, Val Loss: 0.4068\n",
      "Epoch 9/10, Train Loss: 0.4418, Val Loss: 0.4009\n",
      "Epoch 10/10, Train Loss: 0.4369, Val Loss: 0.3957\n"
     ]
    }
   ],
   "source": [
    "# Entrenamiento\n",
    "for epoch in range(num_epochs):\n",
    "    model.train()\n",
    "    train_loss = 0.0\n",
    "    for images, labels in train_loader:\n",
    "        images, labels = images.to(device), labels.to(device)\n",
    "        image_features = resnet(images).flatten(start_dim=1)\n",
    "        outputs = model(image_features)\n",
    "        loss = criterion(outputs, labels)\n",
    "\n",
    "        optimizer.zero_grad()\n",
    "        loss.backward()\n",
    "        optimizer.step()\n",
    "        train_loss += loss.item()\n",
    "\n",
    "    # Validación\n",
    "    model.eval()\n",
    "    val_loss = 0.0\n",
    "    with torch.no_grad():\n",
    "        for images, labels in test_loader:\n",
    "            images, labels = images.to(device), labels.to(device)\n",
    "            image_features = resnet(images).flatten(start_dim=1)\n",
    "            outputs = model(image_features)\n",
    "            loss = criterion(outputs, labels)\n",
    "            val_loss += loss.item()\n",
    "\n",
    "    # Imprimir métricas\n",
    "    train_loss /= len(train_loader)\n",
    "    val_loss /= len(test_loader)\n",
    "    print(f\"Epoch {epoch+1}/{num_epochs}, Train Loss: {train_loss:.4f}, Val Loss: {val_loss:.4f}\")\n"
   ]
  },
  {
   "cell_type": "markdown",
   "metadata": {},
   "source": [
    "## Inferencia y métricas:"
   ]
  },
  {
   "cell_type": "code",
   "execution_count": 12,
   "metadata": {},
   "outputs": [],
   "source": [
    "# Coloca el modelo en modo evaluación\n",
    "model.eval()\n",
    "\n",
    "# Listas para almacenar etiquetas reales y predicciones\n",
    "all_labels = list()\n",
    "all_preds = list()\n",
    "\n",
    "# Realizar inferencia\n",
    "with torch.no_grad():  # No calculamos gradientes\n",
    "    for images, labels in test_loader:\n",
    "        images = images.to(device)\n",
    "        labels = labels.to(device)\n",
    "\n",
    "        # Extraer características con ResNet y pasar por el modelo\n",
    "        image_features = resnet(images).flatten(start_dim=1)\n",
    "        outputs = model(image_features)\n",
    "\n",
    "        # Aplicar sigmoid para obtener probabilidades\n",
    "        probs = torch.sigmoid(outputs)\n",
    "\n",
    "        # Convertir probabilidades en predicciones binarias (umbral = 0.5)\n",
    "        preds = (probs > 0.5).int()\n",
    "\n",
    "        # Guardar etiquetas reales y predicciones\n",
    "        all_labels.append(labels.cpu().numpy())\n",
    "        all_preds.append(preds.cpu().numpy())\n",
    "\n",
    "# Convertir listas a arreglos\n",
    "all_labels = np.vstack(all_labels)  # Etiquetas reales\n",
    "all_preds = np.vstack(all_preds)    # Predicciones\n",
    "\n",
    "# Calcular matriz de confusión para cada etiqueta\n",
    "confusion_matrices = multilabel_confusion_matrix(all_labels, all_preds)\n"
   ]
  },
  {
   "cell_type": "code",
   "execution_count": 13,
   "metadata": {},
   "outputs": [
    {
     "name": "stdout",
     "output_type": "stream",
     "text": [
      "Reporte de clasificación (por etiqueta):\n",
      "              precision    recall  f1-score   support\n",
      "\n",
      "          DR       0.91      0.91      0.91        43\n",
      "      NORMAL       0.00      0.00      0.00        23\n",
      "          MH       0.00      0.00      0.00        14\n",
      "         ODC       0.84      0.84      0.84        19\n",
      "        TSLN       0.00      0.00      0.00        10\n",
      "        ARMD       0.00      0.00      0.00         5\n",
      "          DN       0.00      0.00      0.00        15\n",
      "         MYA       0.00      0.00      0.00         9\n",
      "        BRVO       0.00      0.00      0.00         5\n",
      "         ODP       0.00      0.00      0.00         2\n",
      "        CRVO       0.00      0.00      0.00         2\n",
      "         CNV       0.00      0.00      0.00         0\n",
      "          RS       0.00      0.00      0.00         0\n",
      "         ODE       0.00      0.00      0.00         2\n",
      "          LS       0.00      0.00      0.00         7\n",
      "         CSR       0.00      0.00      0.00         5\n",
      "         HTR       0.00      0.00      0.00         0\n",
      "         ASR       0.00      0.00      0.00         0\n",
      "         CRS       0.00      0.00      0.00         3\n",
      "       OTHER       0.00      0.00      0.00        17\n",
      "\n",
      "   micro avg       0.89      0.30      0.45       181\n",
      "   macro avg       0.09      0.09      0.09       181\n",
      "weighted avg       0.30      0.30      0.30       181\n",
      " samples avg       0.40      0.32      0.35       181\n",
      "\n"
     ]
    }
   ],
   "source": [
    "# Imprimir métricas de clasificación\n",
    "print(\"Reporte de clasificación (por etiqueta):\")\n",
    "print(classification_report(all_labels, all_preds, target_names=test_dataset.data.columns[1:], zero_division=0))"
   ]
  },
  {
   "cell_type": "code",
   "execution_count": 18,
   "metadata": {},
   "outputs": [
    {
     "data": {
      "image/png": "[encoded data removed]",
      "text/plain": [
       "<Figure size 600x500 with 2 Axes>"
      ]
     },
     "metadata": {},
     "output_type": "display_data"
    }
   ],
   "source": [
    "# Ejemplo: Visualizar la matriz de confusión para la primera etiqueta\n",
    "class_name = test_dataset.data.columns[1]\n",
    "plot_confusion_matrix(confusion_matrices[0], class_name)"
   ]
  }
 ],
 "metadata": {
  "kernelspec": {
   "display_name": ".venv",
   "language": "python",
   "name": "python3"
  },
  "language_info": {
   "codemirror_mode": {
    "name": "ipython",
    "version": 3
   },
   "file_extension": ".py",
   "mimetype": "text/x-python",
   "name": "python",
   "nbconvert_exporter": "python",
   "pygments_lexer": "ipython3",
   "version": "3.11.0"
  }
 },
 "nbformat": 4,
 "nbformat_minor": 2
}
